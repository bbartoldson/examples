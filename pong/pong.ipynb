{
 "cells": [
  {
   "cell_type": "code",
   "execution_count": 1,
   "metadata": {
    "collapsed": false
   },
   "outputs": [
    {
     "name": "stderr",
     "output_type": "stream",
     "text": [
      "[2017-11-03 12:03:55,633] Making new env: Pong-v0\n"
     ]
    },
    {
     "data": {
      "text/plain": [
       "(210, 160, 3)"
      ]
     },
     "execution_count": 1,
     "metadata": {},
     "output_type": "execute_result"
    }
   ],
   "source": [
    "import gym\n",
    "import matplotlib.pyplot as plt\n",
    "from IPython import display\n",
    "import numpy as np\n",
    "import time\n",
    "import tensorflow as tf\n",
    "import time\n",
    "\n",
    "config = tf.ConfigProto()\n",
    "#config.gpu_options.allow_growth = True\n",
    "\n",
    "%matplotlib inline\n",
    "env = gym.make(\"Pong-v0\")\n",
    "env.render(mode='rgb_array').shape"
   ]
  },
  {
   "cell_type": "code",
   "execution_count": 2,
   "metadata": {
    "collapsed": false
   },
   "outputs": [
    {
     "name": "stdout",
     "output_type": "stream",
     "text": [
      "[(53, 396), (101, 64), (109, 21056)]\n",
      "[(53, 132), (101, 16), (109, 5264)]\n"
     ]
    },
    {
     "data": {
      "image/png": "[encoded data removed]",
      "text/plain": [
       "<matplotlib.figure.Figure at 0x7f69891f2470>"
      ]
     },
     "metadata": {},
     "output_type": "display_data"
    },
    {
     "name": "stdout",
     "output_type": "stream",
     "text": [
      "[(92, 16), (144, 5264), (236, 132)]\n",
      "[(0, 5264), (1, 148)]\n",
      "[(0, 5264), (1, 148)]\n"
     ]
    }
   ],
   "source": [
    "top = 32\n",
    "bottom = 195\n",
    "left = 14\n",
    "right = 146\n",
    "downsampled_height = int(np.rint((bottom-top)/2))\n",
    "downsampled_width = int(np.rint((right-left)/2))\n",
    "\n",
    "def preprocess(img, reshape=False):\n",
    "    #crop, grab only one channel, and downsample by factor of 2\n",
    "    img = img[top:bottom,left:right,0][::2,::2]\n",
    "    #get rid of background color, 109 in first frame, 144 otherwise\n",
    "    img[np.isin(img,[144,109])] = 0\n",
    "    img[img!=0] = 1\n",
    "    if not reshape:\n",
    "        return img.astype(np.int).ravel()\n",
    "    else:\n",
    "        return img.astype(np.int)\n",
    "\n",
    "def reshape(img):\n",
    "    return img.reshape(downsampled_height,downsampled_width).astype(np.int)\n",
    "\n",
    "#what color pixels are in this image?\n",
    "print(list(zip(*np.unique(env.render(mode='rgb_array')[top:bottom,left:right,0],return_counts=1))))\n",
    "print(list(zip(*np.unique(env.render(mode='rgb_array')[top:bottom,left:right,0][::2,::2],return_counts=1))))\n",
    "\n",
    "plt.subplots(2,3, figsize=(12,10))\n",
    "\n",
    "plt.subplot(2,3,1)\n",
    "plt.title(\"The Original\")\n",
    "plt.imshow(env.reset())\n",
    "\n",
    "plt.subplot(2,3,2)\n",
    "plt.title(\"Cropped, First Channel Only\")\n",
    "plt.imshow(env.render(mode='rgb_array')[top:bottom,left:right,0])\n",
    "\n",
    "plt.subplot(2,3,3)\n",
    "plt.title(\"Prior Plus Downsample\")\n",
    "plt.imshow(env.render(mode='rgb_array')[top:bottom,left:right,0][::2,::2])\n",
    "\n",
    "plt.subplot(2,3,4)\n",
    "plt.title(\"After a step, color scheme changes\")\n",
    "plt.imshow(env.step(2)[0][top:bottom,left:right,0][::2,::2])\n",
    "\n",
    "plt.subplot(2,3,5)\n",
    "plt.title(\"After Preprocessing Frame 1\")\n",
    "plt.imshow(reshape(preprocess(env.reset())))\n",
    "\n",
    "plt.subplot(2,3,6)\n",
    "plt.title(\"After Preprocessing Frame 2\")\n",
    "plt.imshow(reshape(preprocess(env.step(2)[0])))\n",
    "plt.show()\n",
    "\n",
    "print(list(zip(*np.unique(env.render(mode='rgb_array')[top:bottom,left:right,0][::2,::2],return_counts=1))))\n",
    "print(list(zip(*np.unique(reshape(preprocess(env.reset())),return_counts=1))))\n",
    "print(list(zip(*np.unique(reshape(preprocess(env.render(mode='rgb_array'))),return_counts=1))))\n"
   ]
  },
  {
   "cell_type": "code",
   "execution_count": null,
   "metadata": {
    "collapsed": false
   },
   "outputs": [],
   "source": [
    "#what does a difference frame look like?, run reset line if initializing\n",
    "#note that the color map is now assigning the background to light blue because the minimum value has become -1\n",
    "#x = env.reset()\n",
    "current = preprocess(env.render(mode='rgb_array'),True)\n",
    "plt.imshow(preprocess(env.step(env.action_space.sample())[0],True)-current)\n",
    "plt.show()"
   ]
  },
  {
   "cell_type": "code",
   "execution_count": null,
   "metadata": {
    "collapsed": false
   },
   "outputs": [],
   "source": [
    "env.reset()\n",
    "img = plt.imshow(preprocess(env.render(mode='rgb_array'),True)) # only call this once\n",
    "reward = 0\n",
    "while not reward:\n",
    "    action = env.action_space.sample()\n",
    "    #the reward element (index 1) is -1 after losing a point, presumably +1 after winning\n",
    "    reward = env.step(action)[1]"
   ]
  },
  {
   "cell_type": "code",
   "execution_count": null,
   "metadata": {
    "collapsed": false
   },
   "outputs": [],
   "source": [
    "plt.imshow(env.render(mode='rgb_array'))\n",
    "plt.title(reward)"
   ]
  },
  {
   "cell_type": "code",
   "execution_count": null,
   "metadata": {
    "collapsed": false
   },
   "outputs": [],
   "source": [
    "env.reset()\n",
    "print(env.action_space)\n",
    "env.unwrapped.get_action_meanings()"
   ]
  },
  {
   "cell_type": "code",
   "execution_count": null,
   "metadata": {
    "collapsed": false
   },
   "outputs": [],
   "source": [
    "#1 does nothing, 2 goes up, 3 goes down\n",
    "print(env.step(1)[1:])\n",
    "render()\n",
    "plt.show()"
   ]
  },
  {
   "cell_type": "code",
   "execution_count": null,
   "metadata": {
    "collapsed": false
   },
   "outputs": [
    {
     "name": "stdout",
     "output_type": "stream",
     "text": [
      "Finished 0 batches in 0.0 seconds\n",
      "Finished 1 batches in 59.0 seconds\n"
     ]
    }
   ],
   "source": [
    "sess = tf.InteractiveSession()\n",
    "\n",
    "input_dim = downsampled_height*downsampled_width\n",
    "\n",
    "x = tf.placeholder(tf.float32, shape=[None, input_dim])\n",
    "y = tf.placeholder(tf.float32, shape=[None, 1])\n",
    "action = tf.placeholder(tf.int8, shape=[None, 1])\n",
    "\n",
    "h1_dim = 10\n",
    "l1 = tf.layers.dense(x, h1_dim, activation=tf.nn.relu)\n",
    "logit = tf.layers.dense(l1, 1)\n",
    "move_down_probability = tf.nn.sigmoid(logit)\n",
    "#choose reward so gradient wrt action (3=down, 2=up) is correct\n",
    "reward = tf.where(action==3,\n",
    "                 y*logit,\n",
    "                 -y*logit)\n",
    "optimizer = tf.train.AdamOptimizer()\n",
    "train = optimizer.minimize(-tf.reduce_sum(reward))\n",
    "\n",
    "def normalize_rewards(rewards):\n",
    "    rewards = np.array(rewards)\n",
    "    #mean = np.mean(rewards)\n",
    "    #don't subtract mean for now\n",
    "    mean = 0\n",
    "    std_dev = np.std(rewards)\n",
    "    return (rewards-mean)/std_dev\n",
    "\n",
    "def play_frame(frame_change):\n",
    "    p_down = sess.run(move_down_probability,\n",
    "                feed_dict={x: np.array([frame_change])}).reshape(1)\n",
    "    #choose an action based on this probability, 3=down, 2=up\n",
    "    action = np.random.binomial(1, p_down) + 2\n",
    "    observation, reward, done, info = env.step(action)\n",
    "    return p_down, action, reward, preprocess(observation), done\n",
    "\n",
    "def play_game(start_frame):\n",
    "    discount = 0.99\n",
    "    reward = 0\n",
    "    p_list, actions, frames, frame_changes = [], [], [], []\n",
    "    frames = [start_frame]\n",
    "    frame_changes.append(frames[-1]-frames[-1])\n",
    "    while reward==0:\n",
    "        p_down, action, reward, new_frame, done = play_frame(frame_changes[-1])\n",
    "        p_list.append(p_down)\n",
    "        actions.append(action)\n",
    "        frames.append(new_frame)\n",
    "        frame_changes.append(frames[-1]-frames[-2])\n",
    "        if reward:\n",
    "            rewards = reward * np.array([\n",
    "                        [discount**k] for k in \n",
    "                        range(len(frame_changes)-2,-1,-1)])\n",
    "    return p_list, actions, frames[:-1], frame_changes[:-1], list(rewards), done\n",
    "    \n",
    "def play_match():\n",
    "    p_list, actions, frames, frame_changes, rewards = [], [], [], [], []\n",
    "    wins = 0\n",
    "    games = 0\n",
    "    env.reset()\n",
    "    done = 0\n",
    "    while not done:\n",
    "        start_frame = preprocess(env.render(mode='rgb_array'))\n",
    "        prb, act, frm, frm_chng, rwrd, done = play_game(start_frame)\n",
    "        p_list+=prb\n",
    "        actions+=act\n",
    "        frames+=frm\n",
    "        frame_changes+=frm_chng\n",
    "        rewards+=rwrd\n",
    "        wins += max(rwrd[-1][0],0)\n",
    "        games+=1\n",
    "    return rewards, frames, frame_changes, actions, p_list, wins, games\n",
    "\n",
    "def make_batch(n_matches):\n",
    "    p_list, actions, frames, frame_changes, rewards = [], [], [], [], []\n",
    "    wins = 0\n",
    "    games = 0\n",
    "    for _ in range(n_matches):\n",
    "        rwrd, frm, frm_chng, act, prb, w, g = play_match()\n",
    "        play_match()\n",
    "        p_list+=prb\n",
    "        actions+=act\n",
    "        frames+=frm\n",
    "        frame_changes+=frm_chng\n",
    "        rewards+=rwrd\n",
    "        wins += w\n",
    "        games += g\n",
    "    rewards = normalize_rewards(rewards)\n",
    "    return rewards, frames, frame_changes, np.array(actions), p_list, wins, games\n",
    "    \n",
    "epochs = 10001\n",
    "\n",
    "tf.global_variables_initializer().run()\n",
    "\n",
    "start = time.time()\n",
    "\n",
    "def concat(one, two):\n",
    "    return np.concatenate([one,two], axis=1)\n",
    "\n",
    "ratios = []\n",
    "matches_per_batch = 10\n",
    "watch_games = 0\n",
    "dynamically_output_quality = 0\n",
    "            \n",
    "for i in range(epochs):\n",
    "    print(\"Finished {} batches in {} seconds\".format(i, round(time.time()-start,0)))\n",
    "    #play Pong with the network, save frames and associated rewards\n",
    "    reward, frames, frame_changes, actions, p_list, w, g = make_batch(matches_per_batch)\n",
    "    train.run(feed_dict={x: frame_changes, y: np.array(reward), action: actions})\n",
    "    ratios.append(w/g*100)\n",
    "    plt.plot(range(1,i+2), ratios)\n",
    "    plt.xlabel(\"Batches\")\n",
    "    plt.ylabel(\"Percent of Games Won\")\n",
    "    plt.savefig(\"./pong_agent_quality\")\n",
    "    if dynamically_output_quality:\n",
    "        display.clear_output(wait=True)\n",
    "        display.display(plt.gcf())\n",
    "    if i%10==5 and watch_games:\n",
    "        game = frames\n",
    "        img = plt.imshow(concat(reshape(game[0]) , reshape(frame_changes[1]))) # only call this once\n",
    "        for i in range(min(len(game), 200)):\n",
    "            img.set_data(concat(reshape(game[i]) , reshape(frame_changes[i]))) # just update the data\n",
    "            plt.title(p_list[i])\n",
    "            display.clear_output(wait=True)\n",
    "            display.display(plt.gcf())"
   ]
  },
  {
   "cell_type": "code",
   "execution_count": null,
   "metadata": {
    "collapsed": false
   },
   "outputs": [],
   "source": [
    "game = frames\n",
    "img = plt.imshow(concat(reshape(game[0]) , reshape(frame_changes[1]))) # only call this once\n",
    "for i in range(min(len(game), 200)):\n",
    "    img.set_data(concat(reshape(game[i]) , reshape(frame_changes[i]))) # just update the data\n",
    "    plt.title(p_list[i])\n",
    "    display.clear_output(wait=True)\n",
    "    display.display(plt.gcf())"
   ]
  }
 ],
 "metadata": {
  "anaconda-cloud": {},
  "kernelspec": {
   "display_name": "Python [default]",
   "language": "python",
   "name": "python3"
  },
  "language_info": {
   "codemirror_mode": {
    "name": "ipython",
    "version": 3
   },
   "file_extension": ".py",
   "mimetype": "text/x-python",
   "name": "python",
   "nbconvert_exporter": "python",
   "pygments_lexer": "ipython3",
   "version": "3.5.2"
  }
 },
 "nbformat": 4,
 "nbformat_minor": 1
}
