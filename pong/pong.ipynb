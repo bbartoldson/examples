{
 "cells": [
  {
   "cell_type": "code",
   "execution_count": 1,
   "metadata": {
    "collapsed": false
   },
   "outputs": [
    {
     "name": "stderr",
     "output_type": "stream",
     "text": [
      "[2017-11-05 18:05:51,465] Making new env: Pong-v0\n"
     ]
    },
    {
     "name": "stdout",
     "output_type": "stream",
     "text": [
      "Discrete(6)\n"
     ]
    },
    {
     "data": {
      "text/plain": [
       "['NOOP', 'FIRE', 'RIGHT', 'LEFT', 'RIGHTFIRE', 'LEFTFIRE']"
      ]
     },
     "execution_count": 1,
     "metadata": {},
     "output_type": "execute_result"
    }
   ],
   "source": [
    "import gym\n",
    "import matplotlib.pyplot as plt\n",
    "from IPython import display\n",
    "import numpy as np\n",
    "import time\n",
    "import tensorflow as tf\n",
    "import time\n",
    "\n",
    "config = tf.ConfigProto()\n",
    "#config.gpu_options.allow_growth = True\n",
    "\n",
    "%matplotlib inline\n",
    "env = gym.make(\"Pong-v0\")\n",
    "env.render(mode='rgb_array').shape\n",
    "env.reset()\n",
    "print(env.action_space)\n",
    "env.unwrapped.get_action_meanings()"
   ]
  },
  {
   "cell_type": "code",
   "execution_count": 2,
   "metadata": {
    "collapsed": false
   },
   "outputs": [
    {
     "name": "stdout",
     "output_type": "stream",
     "text": [
      "[(53, 396), (101, 64), (109, 21056)]\n",
      "[(53, 132), (101, 16), (109, 5264)]\n"
     ]
    },
    {
     "data": {
      "image/png": "[encoded data removed]",
      "text/plain": [
       "<matplotlib.figure.Figure at 0x7fcd76c57470>"
      ]
     },
     "metadata": {},
     "output_type": "display_data"
    },
    {
     "name": "stdout",
     "output_type": "stream",
     "text": [
      "[(92, 16), (144, 5264), (236, 132)]\n",
      "[(0, 5264), (1, 148)]\n",
      "[(0, 5264), (1, 148)]\n"
     ]
    }
   ],
   "source": [
    "top = 32\n",
    "bottom = 195\n",
    "left = 14\n",
    "right = 146\n",
    "downsampled_height = int(np.rint((bottom-top)/2))\n",
    "downsampled_width = int(np.rint((right-left)/2))\n",
    "\n",
    "def preprocess(img, reshape=False):\n",
    "    #crop, grab only one channel, and downsample by factor of 2\n",
    "    img = img[top:bottom,left:right,0][::2,::2]\n",
    "    #get rid of background color, 109 in first frame, 144 otherwise\n",
    "    img[np.isin(img,[144,109])] = 0\n",
    "    img[img!=0] = 1\n",
    "    if not reshape:\n",
    "        return img.astype(np.int).ravel()\n",
    "    else:\n",
    "        return img.astype(np.int)\n",
    "\n",
    "def reshape(img):\n",
    "    return img.reshape(downsampled_height,downsampled_width).astype(np.int)\n",
    "\n",
    "#what color pixels are in this image?\n",
    "print(list(zip(*np.unique(env.render(mode='rgb_array')[top:bottom,left:right,0],return_counts=1))))\n",
    "print(list(zip(*np.unique(env.render(mode='rgb_array')[top:bottom,left:right,0][::2,::2],return_counts=1))))\n",
    "\n",
    "plt.subplots(2,3, figsize=(12,10))\n",
    "\n",
    "plt.subplot(2,3,1)\n",
    "plt.title(\"The Original\")\n",
    "plt.imshow(env.reset())\n",
    "\n",
    "plt.subplot(2,3,2)\n",
    "plt.title(\"Cropped, First Channel Only\")\n",
    "plt.imshow(env.render(mode='rgb_array')[top:bottom,left:right,0])\n",
    "\n",
    "plt.subplot(2,3,3)\n",
    "plt.title(\"Prior Plus Downsample\")\n",
    "plt.imshow(env.render(mode='rgb_array')[top:bottom,left:right,0][::2,::2])\n",
    "\n",
    "plt.subplot(2,3,4)\n",
    "plt.title(\"After a step, color scheme changes\")\n",
    "plt.imshow(env.step(2)[0][top:bottom,left:right,0][::2,::2])\n",
    "\n",
    "plt.subplot(2,3,5)\n",
    "plt.title(\"After Preprocessing Frame 1\")\n",
    "plt.imshow(reshape(preprocess(env.reset())))\n",
    "\n",
    "plt.subplot(2,3,6)\n",
    "plt.title(\"After Preprocessing Frame 2\")\n",
    "plt.imshow(reshape(preprocess(env.step(2)[0])))\n",
    "plt.show()\n",
    "\n",
    "print(list(zip(*np.unique(env.render(mode='rgb_array')[top:bottom,left:right,0][::2,::2],return_counts=1))))\n",
    "print(list(zip(*np.unique(reshape(preprocess(env.reset())),return_counts=1))))\n",
    "print(list(zip(*np.unique(reshape(preprocess(env.render(mode='rgb_array'))),return_counts=1))))\n"
   ]
  },
  {
   "cell_type": "code",
   "execution_count": 3,
   "metadata": {
    "collapsed": false
   },
   "outputs": [],
   "source": [
    "sess = tf.InteractiveSession(config=config)\n",
    "\n",
    "input_dim = downsampled_height*downsampled_width\n",
    "\n",
    "x = tf.placeholder(tf.float32, shape=[None, input_dim])\n",
    "advantage = tf.placeholder(tf.float32, shape=[None, 1])\n",
    "action = tf.placeholder(tf.int8, shape=[None, 1])\n",
    "move_down_action = tf.Variable(3, dtype=tf.int8)\n",
    "\n",
    "h1_dim = 200\n",
    "l1 = tf.layers.dense(x, h1_dim, activation=tf.nn.relu)\n",
    "move_down_probability = tf.layers.dense(l1, 1, activation=tf.nn.sigmoid)\n",
    "#choose reward so gradient wrt action (3=down, 2=up) is correct\n",
    "sampled_action_log_prob = tf.where(tf.equal(action, move_down_action),\n",
    "                                     tf.log(move_down_probability),\n",
    "                                     tf.log(1-move_down_probability))\n",
    "optimizer = tf.train.AdamOptimizer(learning_rate=1e-4)\n",
    "train = optimizer.minimize(tf.reduce_sum(-advantage*sampled_action_log_prob))"
   ]
  },
  {
   "cell_type": "code",
   "execution_count": null,
   "metadata": {
    "collapsed": false
   },
   "outputs": [
    {
     "name": "stdout",
     "output_type": "stream",
     "text": [
      "Finished 0 batches in 0.0 hours, [0, 0, 0, 0, 0, 0, 0, 0, 0, 0] norms\n",
      "Finished 1 batches in 0.01 hours, [(0, 1.4164246), 0, 0, 0, 0, 0, 0, 0, 0, 0] norms\n",
      "Finished 2 batches in 0.02 hours, [(0, 1.4164246), (1, 1.4164374), 0, 0, 0, 0, 0, 0, 0, 0] norms\n",
      "Finished 3 batches in 0.03 hours, [(0, 1.4164246), (1, 1.4164374), (2, 1.4164653), 0, 0, 0, 0, 0, 0, 0] norms\n",
      "Finished 4 batches in 0.04 hours, [(0, 1.4164246), (1, 1.4164374), (2, 1.4164653), (3, 1.4164947), 0, 0, 0, 0, 0, 0] norms\n",
      "Finished 5 batches in 0.05 hours, [(0, 1.4164246), (1, 1.4164374), (2, 1.4164653), (3, 1.4164947), (4, 1.4165106), 0, 0, 0, 0, 0] norms\n",
      "Finished 6 batches in 0.06 hours, [(0, 1.4164246), (1, 1.4164374), (2, 1.4164653), (3, 1.4164947), (4, 1.4165106), (5, 1.4165201), 0, 0, 0, 0] norms\n",
      "Finished 7 batches in 0.07 hours, [(0, 1.4164246), (1, 1.4164374), (2, 1.4164653), (3, 1.4164947), (4, 1.4165106), (5, 1.4165201), (6, 1.4165103), 0, 0, 0] norms\n",
      "Finished 8 batches in 0.08 hours, [(0, 1.4164246), (1, 1.4164374), (2, 1.4164653), (3, 1.4164947), (4, 1.4165106), (5, 1.4165201), (6, 1.4165103), (7, 1.4165189), 0, 0] norms\n",
      "Finished 9 batches in 0.08 hours, [(0, 1.4164246), (1, 1.4164374), (2, 1.4164653), (3, 1.4164947), (4, 1.4165106), (5, 1.4165201), (6, 1.4165103), (7, 1.4165189), (8, 1.4165291), 0] norms\n",
      "Finished 10 batches in 0.09 hours, [(0, 1.4164246), (1, 1.4164374), (2, 1.4164653), (3, 1.4164947), (4, 1.4165106), (5, 1.4165201), (6, 1.4165103), (7, 1.4165189), (8, 1.4165291), (9, 1.4165387)] norms\n",
      "Finished 11 batches in 0.1 hours, [(10, 1.4165361), (1, 1.4164374), (2, 1.4164653), (3, 1.4164947), (4, 1.4165106), (5, 1.4165201), (6, 1.4165103), (7, 1.4165189), (8, 1.4165291), (9, 1.4165387)] norms\n",
      "Finished 12 batches in 0.11 hours, [(10, 1.4165361), (11, 1.4165454), (2, 1.4164653), (3, 1.4164947), (4, 1.4165106), (5, 1.4165201), (6, 1.4165103), (7, 1.4165189), (8, 1.4165291), (9, 1.4165387)] norms\n",
      "Finished 13 batches in 0.12 hours, [(10, 1.4165361), (11, 1.4165454), (12, 1.4165549), (3, 1.4164947), (4, 1.4165106), (5, 1.4165201), (6, 1.4165103), (7, 1.4165189), (8, 1.4165291), (9, 1.4165387)] norms\n",
      "Finished 14 batches in 0.13 hours, [(10, 1.4165361), (11, 1.4165454), (12, 1.4165549), (13, 1.4165477), (4, 1.4165106), (5, 1.4165201), (6, 1.4165103), (7, 1.4165189), (8, 1.4165291), (9, 1.4165387)] norms\n",
      "Finished 15 batches in 0.14 hours, [(10, 1.4165361), (11, 1.4165454), (12, 1.4165549), (13, 1.4165477), (14, 1.4165344), (5, 1.4165201), (6, 1.4165103), (7, 1.4165189), (8, 1.4165291), (9, 1.4165387)] norms\n",
      "Finished 16 batches in 0.15 hours, [(10, 1.4165361), (11, 1.4165454), (12, 1.4165549), (13, 1.4165477), (14, 1.4165344), (15, 1.4165211), (6, 1.4165103), (7, 1.4165189), (8, 1.4165291), (9, 1.4165387)] norms\n",
      "Finished 17 batches in 0.16 hours, [(10, 1.4165361), (11, 1.4165454), (12, 1.4165549), (13, 1.4165477), (14, 1.4165344), (15, 1.4165211), (16, 1.4165175), (7, 1.4165189), (8, 1.4165291), (9, 1.4165387)] norms\n",
      "Finished 18 batches in 0.17 hours, [(10, 1.4165361), (11, 1.4165454), (12, 1.4165549), (13, 1.4165477), (14, 1.4165344), (15, 1.4165211), (16, 1.4165175), (17, 1.4165168), (8, 1.4165291), (9, 1.4165387)] norms\n",
      "Finished 19 batches in 0.18 hours, [(10, 1.4165361), (11, 1.4165454), (12, 1.4165549), (13, 1.4165477), (14, 1.4165344), (15, 1.4165211), (16, 1.4165175), (17, 1.4165168), (18, 1.4165177), (9, 1.4165387)] norms\n",
      "Finished 20 batches in 0.19 hours, [(10, 1.4165361), (11, 1.4165454), (12, 1.4165549), (13, 1.4165477), (14, 1.4165344), (15, 1.4165211), (16, 1.4165175), (17, 1.4165168), (18, 1.4165177), (19, 1.4165177)] norms\n",
      "Finished 21 batches in 0.2 hours, [(20, 1.4165149), (11, 1.4165454), (12, 1.4165549), (13, 1.4165477), (14, 1.4165344), (15, 1.4165211), (16, 1.4165175), (17, 1.4165168), (18, 1.4165177), (19, 1.4165177)] norms\n",
      "Finished 22 batches in 0.21 hours, [(20, 1.4165149), (21, 1.4165101), (12, 1.4165549), (13, 1.4165477), (14, 1.4165344), (15, 1.4165211), (16, 1.4165175), (17, 1.4165168), (18, 1.4165177), (19, 1.4165177)] norms\n",
      "Finished 23 batches in 0.21 hours, [(20, 1.4165149), (21, 1.4165101), (22, 1.4165001), (13, 1.4165477), (14, 1.4165344), (15, 1.4165211), (16, 1.4165175), (17, 1.4165168), (18, 1.4165177), (19, 1.4165177)] norms\n",
      "Finished 24 batches in 0.22 hours, [(20, 1.4165149), (21, 1.4165101), (22, 1.4165001), (23, 1.4165078), (14, 1.4165344), (15, 1.4165211), (16, 1.4165175), (17, 1.4165168), (18, 1.4165177), (19, 1.4165177)] norms\n",
      "Finished 25 batches in 0.23 hours, [(20, 1.4165149), (21, 1.4165101), (22, 1.4165001), (23, 1.4165078), (24, 1.4165246), (15, 1.4165211), (16, 1.4165175), (17, 1.4165168), (18, 1.4165177), (19, 1.4165177)] norms\n",
      "Finished 26 batches in 0.24 hours, [(20, 1.4165149), (21, 1.4165101), (22, 1.4165001), (23, 1.4165078), (24, 1.4165246), (25, 1.4165359), (16, 1.4165175), (17, 1.4165168), (18, 1.4165177), (19, 1.4165177)] norms\n",
      "Finished 27 batches in 0.25 hours, [(20, 1.4165149), (21, 1.4165101), (22, 1.4165001), (23, 1.4165078), (24, 1.4165246), (25, 1.4165359), (26, 1.4165572), (17, 1.4165168), (18, 1.4165177), (19, 1.4165177)] norms\n",
      "Finished 28 batches in 0.26 hours, [(20, 1.4165149), (21, 1.4165101), (22, 1.4165001), (23, 1.4165078), (24, 1.4165246), (25, 1.4165359), (26, 1.4165572), (27, 1.4165859), (18, 1.4165177), (19, 1.4165177)] norms\n",
      "Finished 29 batches in 0.27 hours, [(20, 1.4165149), (21, 1.4165101), (22, 1.4165001), (23, 1.4165078), (24, 1.4165246), (25, 1.4165359), (26, 1.4165572), (27, 1.4165859), (28, 1.4166133), (19, 1.4165177)] norms\n",
      "Finished 30 batches in 0.28 hours, [(20, 1.4165149), (21, 1.4165101), (22, 1.4165001), (23, 1.4165078), (24, 1.4165246), (25, 1.4165359), (26, 1.4165572), (27, 1.4165859), (28, 1.4166133), (29, 1.4166399)] norms\n",
      "Finished 31 batches in 0.29 hours, [(30, 1.4166734), (21, 1.4165101), (22, 1.4165001), (23, 1.4165078), (24, 1.4165246), (25, 1.4165359), (26, 1.4165572), (27, 1.4165859), (28, 1.4166133), (29, 1.4166399)] norms\n",
      "Finished 32 batches in 0.3 hours, [(30, 1.4166734), (31, 1.4166979), (22, 1.4165001), (23, 1.4165078), (24, 1.4165246), (25, 1.4165359), (26, 1.4165572), (27, 1.4165859), (28, 1.4166133), (29, 1.4166399)] norms\n",
      "Finished 33 batches in 0.31 hours, [(30, 1.4166734), (31, 1.4166979), (32, 1.4167383), (23, 1.4165078), (24, 1.4165246), (25, 1.4165359), (26, 1.4165572), (27, 1.4165859), (28, 1.4166133), (29, 1.4166399)] norms\n",
      "Finished 34 batches in 0.32 hours, [(30, 1.4166734), (31, 1.4166979), (32, 1.4167383), (33, 1.4167796), (24, 1.4165246), (25, 1.4165359), (26, 1.4165572), (27, 1.4165859), (28, 1.4166133), (29, 1.4166399)] norms\n",
      "Finished 35 batches in 0.32 hours, [(30, 1.4166734), (31, 1.4166979), (32, 1.4167383), (33, 1.4167796), (34, 1.416832), (25, 1.4165359), (26, 1.4165572), (27, 1.4165859), (28, 1.4166133), (29, 1.4166399)] norms\n",
      "Finished 36 batches in 0.33 hours, [(30, 1.4166734), (31, 1.4166979), (32, 1.4167383), (33, 1.4167796), (34, 1.416832), (35, 1.4168935), (26, 1.4165572), (27, 1.4165859), (28, 1.4166133), (29, 1.4166399)] norms\n",
      "Finished 37 batches in 0.34 hours, [(30, 1.4166734), (31, 1.4166979), (32, 1.4167383), (33, 1.4167796), (34, 1.416832), (35, 1.4168935), (36, 1.416955), (27, 1.4165859), (28, 1.4166133), (29, 1.4166399)] norms\n",
      "Finished 38 batches in 0.35 hours, [(30, 1.4166734), (31, 1.4166979), (32, 1.4167383), (33, 1.4167796), (34, 1.416832), (35, 1.4168935), (36, 1.416955), (37, 1.417007), (28, 1.4166133), (29, 1.4166399)] norms\n",
      "Finished 39 batches in 0.36 hours, [(30, 1.4166734), (31, 1.4166979), (32, 1.4167383), (33, 1.4167796), (34, 1.416832), (35, 1.4168935), (36, 1.416955), (37, 1.417007), (38, 1.4170678), (29, 1.4166399)] norms\n",
      "Finished 40 batches in 0.37 hours, [(30, 1.4166734), (31, 1.4166979), (32, 1.4167383), (33, 1.4167796), (34, 1.416832), (35, 1.4168935), (36, 1.416955), (37, 1.417007), (38, 1.4170678), (39, 1.417128)] norms\n",
      "Finished 41 batches in 0.38 hours, [(40, 1.4171602), (31, 1.4166979), (32, 1.4167383), (33, 1.4167796), (34, 1.416832), (35, 1.4168935), (36, 1.416955), (37, 1.417007), (38, 1.4170678), (39, 1.417128)] norms\n",
      "Finished 42 batches in 0.39 hours, [(40, 1.4171602), (41, 1.417177), (32, 1.4167383), (33, 1.4167796), (34, 1.416832), (35, 1.4168935), (36, 1.416955), (37, 1.417007), (38, 1.4170678), (39, 1.417128)] norms\n",
      "Finished 43 batches in 0.4 hours, [(40, 1.4171602), (41, 1.417177), (42, 1.4172103), (33, 1.4167796), (34, 1.416832), (35, 1.4168935), (36, 1.416955), (37, 1.417007), (38, 1.4170678), (39, 1.417128)] norms\n",
      "Finished 44 batches in 0.41 hours, [(40, 1.4171602), (41, 1.417177), (42, 1.4172103), (43, 1.4172417), (34, 1.416832), (35, 1.4168935), (36, 1.416955), (37, 1.417007), (38, 1.4170678), (39, 1.417128)] norms\n",
      "Finished 45 batches in 0.42 hours, [(40, 1.4171602), (41, 1.417177), (42, 1.4172103), (43, 1.4172417), (44, 1.417259), (35, 1.4168935), (36, 1.416955), (37, 1.417007), (38, 1.4170678), (39, 1.417128)] norms\n",
      "Finished 46 batches in 0.43 hours, [(40, 1.4171602), (41, 1.417177), (42, 1.4172103), (43, 1.4172417), (44, 1.417259), (45, 1.4172835), (36, 1.416955), (37, 1.417007), (38, 1.4170678), (39, 1.417128)] norms\n",
      "Finished 47 batches in 0.44 hours, [(40, 1.4171602), (41, 1.417177), (42, 1.4172103), (43, 1.4172417), (44, 1.417259), (45, 1.4172835), (46, 1.4173089), (37, 1.417007), (38, 1.4170678), (39, 1.417128)] norms\n",
      "Finished 48 batches in 0.45 hours, [(40, 1.4171602), (41, 1.417177), (42, 1.4172103), (43, 1.4172417), (44, 1.417259), (45, 1.4172835), (46, 1.4173089), (47, 1.417339), (38, 1.4170678), (39, 1.417128)] norms\n",
      "Finished 49 batches in 0.46 hours, [(40, 1.4171602), (41, 1.417177), (42, 1.4172103), (43, 1.4172417), (44, 1.417259), (45, 1.4172835), (46, 1.4173089), (47, 1.417339), (48, 1.4173867), (39, 1.417128)] norms\n",
      "Finished 50 batches in 0.47 hours, [(40, 1.4171602), (41, 1.417177), (42, 1.4172103), (43, 1.4172417), (44, 1.417259), (45, 1.4172835), (46, 1.4173089), (47, 1.417339), (48, 1.4173867), (49, 1.4174414)] norms\n",
      "Finished 51 batches in 0.48 hours, [(50, 1.4175035), (41, 1.417177), (42, 1.4172103), (43, 1.4172417), (44, 1.417259), (45, 1.4172835), (46, 1.4173089), (47, 1.417339), (48, 1.4173867), (49, 1.4174414)] norms\n",
      "Finished 52 batches in 0.49 hours, [(50, 1.4175035), (51, 1.4175534), (42, 1.4172103), (43, 1.4172417), (44, 1.417259), (45, 1.4172835), (46, 1.4173089), (47, 1.417339), (48, 1.4173867), (49, 1.4174414)] norms\n",
      "Finished 53 batches in 0.5 hours, [(50, 1.4175035), (51, 1.4175534), (52, 1.4176041), (43, 1.4172417), (44, 1.417259), (45, 1.4172835), (46, 1.4173089), (47, 1.417339), (48, 1.4173867), (49, 1.4174414)] norms\n",
      "Finished 54 batches in 0.5 hours, [(50, 1.4175035), (51, 1.4175534), (52, 1.4176041), (53, 1.4176769), (44, 1.417259), (45, 1.4172835), (46, 1.4173089), (47, 1.417339), (48, 1.4173867), (49, 1.4174414)] norms\n",
      "Finished 55 batches in 0.52 hours, [(50, 1.4175035), (51, 1.4175534), (52, 1.4176041), (53, 1.4176769), (54, 1.4177512), (45, 1.4172835), (46, 1.4173089), (47, 1.417339), (48, 1.4173867), (49, 1.4174414)] norms\n"
     ]
    }
   ],
   "source": [
    "def normalize_rewards(rewards):\n",
    "    rewards = np.array(rewards)\n",
    "    mean = np.mean(rewards)\n",
    "    std_dev = np.std(rewards)\n",
    "    return (rewards-mean)/std_dev\n",
    "\n",
    "def play_frame(frame_change):\n",
    "    p_down = sess.run(move_down_probability,\n",
    "                feed_dict={x: np.array([frame_change])}).reshape(1)\n",
    "    #choose an action based on this probability, 3=down, 2=up\n",
    "    action = np.random.binomial(1, p_down) + 2\n",
    "    observation, reward, done, info = env.step(action)\n",
    "    return p_down, action, reward, preprocess(observation), done\n",
    "\n",
    "def play_game(start_frame):\n",
    "    discount = 0.99\n",
    "    reward = 0\n",
    "    p_list, actions, frames, frame_changes = [], [], [], []\n",
    "    frames = [start_frame]\n",
    "    frame_changes.append(frames[-1]-frames[-1])\n",
    "    while reward==0:\n",
    "        p_down, action, reward, new_frame, done = play_frame(frame_changes[-1])\n",
    "        p_list.append(p_down)\n",
    "        actions.append(action)\n",
    "        frames.append(new_frame)\n",
    "        frame_changes.append(frames[-1]-frames[-2])\n",
    "        if reward:\n",
    "            rewards = reward * np.array([\n",
    "                        [discount**k] for k in \n",
    "                        range(len(frame_changes)-2,-1,-1)])\n",
    "    return p_list, actions, frames[:-1], frame_changes[:-1], list(rewards), done\n",
    "    \n",
    "def play_match():\n",
    "    p_list, actions, frames, frame_changes, rewards = [], [], [], [], []\n",
    "    wins = 0\n",
    "    games = 0\n",
    "    env.reset()\n",
    "    done = 0\n",
    "    while not done:\n",
    "        start_frame = preprocess(env.render(mode='rgb_array'))\n",
    "        prb, act, frm, frm_chng, rwrd, done = play_game(start_frame)\n",
    "        p_list+=prb\n",
    "        actions+=act\n",
    "        frames+=frm\n",
    "        frame_changes+=frm_chng\n",
    "        rewards+=rwrd\n",
    "        wins += max(rwrd[-1][0],0)\n",
    "        games+=1\n",
    "    return rewards, frames, frame_changes, actions, p_list, wins, games\n",
    "\n",
    "def make_batch(n_matches):\n",
    "    p_list, actions, frames, frame_changes, rewards = [], [], [], [], []\n",
    "    wins = 0\n",
    "    games = 0\n",
    "    for _ in range(n_matches):\n",
    "        rwrd, frm, frm_chng, act, prb, w, g = play_match()\n",
    "        p_list+=prb\n",
    "        actions+=act\n",
    "        frames+=frm\n",
    "        frame_changes+=frm_chng\n",
    "        rewards+=rwrd\n",
    "        wins += w\n",
    "        games += g\n",
    "    rewards = normalize_rewards(rewards)\n",
    "    return rewards, frames, frame_changes, np.array(actions), p_list, wins, games\n",
    "    \n",
    "epochs = 1000\n",
    "\n",
    "tf.global_variables_initializer().run()\n",
    "\n",
    "start = time.time()\n",
    "\n",
    "def concat(one, two):\n",
    "    return np.concatenate([one,two], axis=1)\n",
    "\n",
    "norms = [0,0,0,0,0,0,0,0,0,0]\n",
    "ratios = []\n",
    "matches_per_batch = 10\n",
    "watch_games = 0\n",
    "dynamically_output_quality = 0\n",
    "            \n",
    "for i in range(epochs):\n",
    "    print(\"Finished {} batches in {} hours, {} norms\".format(i, round((time.time()-start)/3600,2), norms))\n",
    "    norms[i%10] = (i, np.linalg.norm(np.array(\n",
    "            sess.run(tf.get_collection(tf.GraphKeys.TRAINABLE_VARIABLES, 'dense_1/kernel:0')))))\n",
    "    #play Pong with the network, save frames and associated rewards\n",
    "    reward, frames, frame_changes, actions, p_list, w, g = make_batch(matches_per_batch)\n",
    "    train.run(feed_dict={x: frame_changes, advantage: np.array(reward), action: actions})\n",
    "    ratios.append(w/g*100)\n",
    "    plt.plot(range(1,i+2), ratios)\n",
    "    plt.xlabel(\"Batches\")\n",
    "    plt.ylabel(\"Percent of Games Won\")\n",
    "    plt.savefig(\"./pong_agent_quality\")\n",
    "    if dynamically_output_quality:\n",
    "        display.clear_output(wait=True)\n",
    "        display.display(plt.gcf())\n",
    "    if i%10==5 and watch_games:\n",
    "        game = frames\n",
    "        img = plt.imshow(concat(reshape(game[0]) , reshape(frame_changes[1]))) # only call this once\n",
    "        for i in range(min(len(game), 200)):\n",
    "            img.set_data(concat(reshape(game[i]) , reshape(frame_changes[i]))) # just update the data\n",
    "            plt.title(p_list[i])\n",
    "            display.clear_output(wait=True)\n",
    "            display.display(plt.gcf())"
   ]
  },
  {
   "cell_type": "code",
   "execution_count": null,
   "metadata": {
    "collapsed": false
   },
   "outputs": [],
   "source": [
    "game = frames\n",
    "img = plt.imshow(concat(reshape(game[0]) , reshape(frame_changes[1]))) # only call this once\n",
    "for i in range(min(len(game), 200)):\n",
    "    img.set_data(concat(reshape(game[i]) , reshape(frame_changes[i]))) # just update the data\n",
    "    plt.title(p_list[i])\n",
    "    display.clear_output(wait=True)\n",
    "    display.display(plt.gcf())"
   ]
  }
 ],
 "metadata": {
  "anaconda-cloud": {},
  "kernelspec": {
   "display_name": "Python [default]",
   "language": "python",
   "name": "python3"
  },
  "language_info": {
   "codemirror_mode": {
    "name": "ipython",
    "version": 3
   },
   "file_extension": ".py",
   "mimetype": "text/x-python",
   "name": "python",
   "nbconvert_exporter": "python",
   "pygments_lexer": "ipython3",
   "version": "3.5.2"
  }
 },
 "nbformat": 4,
 "nbformat_minor": 1
}
