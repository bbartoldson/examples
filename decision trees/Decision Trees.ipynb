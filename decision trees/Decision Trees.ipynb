{
 "cells": [
  {
   "cell_type": "markdown",
   "metadata": {},
   "source": [
    "# C4.5 and ID3 Decision Tree Algorithms"
   ]
  },
  {
   "cell_type": "code",
   "execution_count": 1,
   "metadata": {
    "collapsed": true
   },
   "outputs": [],
   "source": [
    "import numpy as np"
   ]
  },
  {
   "cell_type": "code",
   "execution_count": 2,
   "metadata": {
    "collapsed": false
   },
   "outputs": [],
   "source": [
    "path = \"/home/brb/repos/examples/decision trees/UCI_cars\"\n",
    "data = np.genfromtxt(path, delimiter=\",\", dtype=str)\n",
    "labels = [\"buying\", \"maint\", \"doors\", \"persons\", \"lug_boot\", \"safety\", \"class\"]"
   ]
  },
  {
   "cell_type": "code",
   "execution_count": 3,
   "metadata": {
    "collapsed": false
   },
   "outputs": [
    {
     "name": "stdout",
     "output_type": "stream",
     "text": [
      "records: 1728\n",
      "example record: ['vhigh' 'vhigh' '2' '2' 'small' 'low' 'unacc']\n",
      "\n",
      "columns:\n",
      "\n",
      "\tbuying: ['high' 'low' 'med' 'vhigh']\n",
      "\tmaint: ['high' 'low' 'med' 'vhigh']\n",
      "\tdoors: ['2' '3' '4' '5more']\n",
      "\tpersons: ['2' '4' 'more']\n",
      "\tlug_boot: ['big' 'med' 'small']\n",
      "\tsafety: ['high' 'low' 'med']\n",
      "\tclass: ['acc' 'good' 'unacc' 'vgood']\n"
     ]
    }
   ],
   "source": [
    "print(\"records: {}\".format(len(data)))\n",
    "print(\"example record: {}\".format(data[0]))\n",
    "print(\"\\ncolumns:\\n\")\n",
    "columns = []\n",
    "for col in range(len(data[0])):\n",
    "    print(\"\\t\" + labels[col] + \": {}\".format(np.unique(data[:,col])))\n",
    "    columns.append(np.unique(data[:,col]))"
   ]
  },
  {
   "cell_type": "code",
   "execution_count": 22,
   "metadata": {
    "collapsed": false
   },
   "outputs": [],
   "source": [
    "def weighted_entropy(data, col_num):\n",
    "    entropies = []\n",
    "    n_s = []\n",
    "    entropy_of_attribute = entropy(data[:,col_num])\n",
    "    for value in columns[col_num]:\n",
    "        candidate_child = data[data[:,col_num] == value]\n",
    "        n_s.append(len(candidate_child))\n",
    "        entropies.append(entropy(candidate_child[:,6]))\n",
    "    n_s = np.array(n_s)\n",
    "    n_s = n_s / np.sum(n_s)\n",
    "    weighted_entropy = n_s.dot(entropies)\n",
    "    return weighted_entropy, entropy_of_attribute\n",
    "    \n",
    "def entropy(data):\n",
    "    classes = np.unique(data)\n",
    "    n = len(data)\n",
    "    n_s = []\n",
    "    for class_ in classes:\n",
    "        n_s.append(len(data[data==class_]))\n",
    "    n_s = np.array(n_s)\n",
    "    n_s = n_s/n\n",
    "    n_s = n_s * np.log2(n_s)\n",
    "    return max(0,-np.sum(n_s))"
   ]
  },
  {
   "cell_type": "code",
   "execution_count": 5,
   "metadata": {
    "collapsed": false
   },
   "outputs": [
    {
     "name": "stdout",
     "output_type": "stream",
     "text": [
      "['acc' 'good' 'unacc' 'vgood']\n"
     ]
    }
   ],
   "source": [
    "def build_node(data, entropy, label, depth, class_=\"TBD\", parent=\"\"):\n",
    "    new_node = dict()\n",
    "    new_node['data'] = data\n",
    "    new_node['entropy'] = entropy\n",
    "    new_node['label'] = label\n",
    "    new_node['depth'] = depth\n",
    "    new_node['class'] = class_\n",
    "    new_node['parent'] = parent\n",
    "    new_node['children'] = []\n",
    "    return new_node\n",
    "\n",
    "tree = build_node(data, entropy(data[:,6]), \"all data\", 0)\n",
    "classes = np.unique(tree['data'][:,6])\n",
    "print(classes)"
   ]
  },
  {
   "cell_type": "code",
   "execution_count": 43,
   "metadata": {
    "collapsed": false
   },
   "outputs": [
    {
     "data": {
      "text/plain": [
       "('safety', 'unacc')"
      ]
     },
     "execution_count": 43,
     "metadata": {},
     "output_type": "execute_result"
    }
   ],
   "source": [
    "def find_best_split(node, c45 = False):\n",
    "    data = node['data']\n",
    "    entropy = node['entropy']\n",
    "    gains = []\n",
    "    for col_num in range(len(columns) - 1):\n",
    "        new_entropy, entropy_of_attribute = weighted_entropy(data, col_num)\n",
    "        if c45:\n",
    "            if entropy_of_attribute==0:\n",
    "                gains.append(0)\n",
    "            else:\n",
    "                gains.append((entropy - new_entropy) / (entropy_of_attribute))\n",
    "        else:\n",
    "            gains.append(entropy - new_entropy)\n",
    "    if np.max(gains) > 10**-3 :\n",
    "        best_attribute = np.argmax(gains)\n",
    "        return best_attribute\n",
    "    else:\n",
    "        return -1\n",
    "    \n",
    "def classify(node_data):\n",
    "    data = node_data[:, 6]\n",
    "    n_s = []\n",
    "    for class_ in classes:\n",
    "        n_s.append(len(data[data==class_]))\n",
    "    return columns[-1][np.argmax(n_s)]\n",
    "    \n",
    "labels[find_best_split(tree)], classify(tree['data'])"
   ]
  },
  {
   "cell_type": "code",
   "execution_count": 44,
   "metadata": {
    "collapsed": false
   },
   "outputs": [],
   "source": [
    "def build_tree(node, c45 = False, max_depth = 999, noisy=False):\n",
    "    next_split_attribute = find_best_split(node, c45)\n",
    "    if next_split_attribute == -1 or node['depth'] == max_depth:\n",
    "        node['class'] = classify(node['data'])\n",
    "        if noisy:\n",
    "            if not node['parent']:\n",
    "                parent = node['label']\n",
    "            else:\n",
    "                parent = node['parent']\n",
    "            print(\"{}\".format(parent))\n",
    "            print(\"\\t{} -> class {}\".format(node['label'], node['class']))\n",
    "    else:\n",
    "        for value in columns[next_split_attribute]:\n",
    "            data = node['data'][ node['data'][:, next_split_attribute] == value ]\n",
    "            entropy_ = entropy(data[:, 6])\n",
    "            new_node = build_node(data, entropy_, \"{} == {}\".format(\n",
    "                                            labels[next_split_attribute],value),\n",
    "                                            node['depth'] + 1, parent=node['label'])\n",
    "            build_tree(new_node, c45, max_depth, noisy)\n",
    "            node['children'].append(new_node)"
   ]
  },
  {
   "cell_type": "code",
   "execution_count": 45,
   "metadata": {
    "collapsed": false
   },
   "outputs": [
    {
     "data": {
      "text/plain": [
       "1.0"
      ]
     },
     "execution_count": 45,
     "metadata": {},
     "output_type": "execute_result"
    }
   ],
   "source": [
    "def correct(decision_tree):\n",
    "    if not decision_tree['children']:\n",
    "        return np.sum(classify(decision_tree['data'])==decision_tree['data'][:,6])\n",
    "    else:\n",
    "        n_correct = 0\n",
    "        for child in decision_tree['children']:\n",
    "            n_correct += correct(child)\n",
    "    return n_correct\n",
    "\n",
    "correct(tree)/1728"
   ]
  },
  {
   "cell_type": "code",
   "execution_count": 46,
   "metadata": {
    "collapsed": false
   },
   "outputs": [
    {
     "name": "stdout",
     "output_type": "stream",
     "text": [
      "all data\n",
      "\tall data -> class unacc\n"
     ]
    },
    {
     "data": {
      "text/plain": [
       "0.7002314814814815"
      ]
     },
     "execution_count": 46,
     "metadata": {},
     "output_type": "execute_result"
    }
   ],
   "source": [
    "tree = build_node(data, entropy(data[:,6]), \"all data\", 0)\n",
    "build_tree(tree, max_depth=0,  noisy=True)\n",
    "correct(tree)/1728"
   ]
  },
  {
   "cell_type": "code",
   "execution_count": 47,
   "metadata": {
    "collapsed": false
   },
   "outputs": [
    {
     "name": "stdout",
     "output_type": "stream",
     "text": [
      "all data\n",
      "\tsafety == high -> class unacc\n",
      "all data\n",
      "\tsafety == low -> class unacc\n",
      "all data\n",
      "\tsafety == med -> class unacc\n"
     ]
    },
    {
     "data": {
      "text/plain": [
       "0.7002314814814815"
      ]
     },
     "execution_count": 47,
     "metadata": {},
     "output_type": "execute_result"
    }
   ],
   "source": [
    "tree = build_node(data, entropy(data[:,6]), \"all data\", 0)\n",
    "build_tree(tree, max_depth=1,  noisy=True)\n",
    "correct(tree)/1728"
   ]
  },
  {
   "cell_type": "code",
   "execution_count": 48,
   "metadata": {
    "collapsed": false
   },
   "outputs": [
    {
     "data": {
      "image/png": "[encoded data removed]",
      "text/plain": [
       "<Figure size 432x288 with 1 Axes>"
      ]
     },
     "metadata": {},
     "output_type": "display_data"
    },
    {
     "data": {
      "image/png": "[encoded data removed]",
      "text/plain": [
       "<Figure size 432x288 with 1 Axes>"
      ]
     },
     "metadata": {},
     "output_type": "display_data"
    },
    {
     "data": {
      "image/png": "[encoded data removed]",
      "text/plain": [
       "<Figure size 432x288 with 1 Axes>"
      ]
     },
     "metadata": {},
     "output_type": "display_data"
    }
   ],
   "source": [
    "import matplotlib.pyplot as plt\n",
    "for safety in columns[5]:\n",
    "    plt.hist(data[data[:,5]==safety, 6])\n",
    "    plt.title(safety + \" safety\")\n",
    "    plt.show()"
   ]
  },
  {
   "cell_type": "code",
   "execution_count": 49,
   "metadata": {
    "collapsed": false
   },
   "outputs": [
    {
     "name": "stdout",
     "output_type": "stream",
     "text": [
      "safety == high\n",
      "\tpersons == 2 -> class unacc\n",
      "safety == high\n",
      "\tpersons == 4 -> class acc\n",
      "safety == high\n",
      "\tpersons == more -> class acc\n",
      "all data\n",
      "\tsafety == low -> class unacc\n",
      "safety == med\n",
      "\tpersons == 2 -> class unacc\n",
      "safety == med\n",
      "\tpersons == 4 -> class acc\n",
      "safety == med\n",
      "\tpersons == more -> class acc\n"
     ]
    },
    {
     "data": {
      "text/plain": [
       "0.7777777777777778"
      ]
     },
     "execution_count": 49,
     "metadata": {},
     "output_type": "execute_result"
    }
   ],
   "source": [
    "tree = build_node(data, entropy(data[:,6]), \"all data\", 0)\n",
    "build_tree(tree, max_depth=2,  noisy=True)\n",
    "correct(tree)/1728"
   ]
  },
  {
   "cell_type": "code",
   "execution_count": 53,
   "metadata": {
    "collapsed": false
   },
   "outputs": [
    {
     "name": "stdout",
     "output_type": "stream",
     "text": [
      "safety == high\n",
      "\tpersons == 2 -> class unacc\n",
      "safety == high\n",
      "\tpersons == 4 -> class acc\n",
      "safety == high\n",
      "\tpersons == more -> class acc\n",
      "all data\n",
      "\tsafety == low -> class unacc\n",
      "safety == med\n",
      "\tpersons == 2 -> class unacc\n",
      "safety == med\n",
      "\tpersons == 4 -> class acc\n",
      "safety == med\n",
      "\tpersons == more -> class acc\n"
     ]
    },
    {
     "data": {
      "text/plain": [
       "0.7777777777777778"
      ]
     },
     "execution_count": 53,
     "metadata": {},
     "output_type": "execute_result"
    }
   ],
   "source": [
    "tree = build_node(data, entropy(data[:,6]), \"all data\", 0)\n",
    "build_tree(tree, max_depth=2,  noisy=True, c45=True)\n",
    "correct(tree)/1728"
   ]
  },
  {
   "cell_type": "code",
   "execution_count": 50,
   "metadata": {
    "collapsed": false
   },
   "outputs": [
    {
     "data": {
      "image/png": "[encoded data removed]",
      "text/plain": [
       "<Figure size 432x288 with 1 Axes>"
      ]
     },
     "metadata": {},
     "output_type": "display_data"
    },
    {
     "data": {
      "image/png": "[encoded data removed]",
      "text/plain": [
       "<Figure size 432x288 with 1 Axes>"
      ]
     },
     "metadata": {},
     "output_type": "display_data"
    },
    {
     "data": {
      "image/png": "[encoded data removed]",
      "text/plain": [
       "<Figure size 432x288 with 1 Axes>"
      ]
     },
     "metadata": {},
     "output_type": "display_data"
    }
   ],
   "source": [
    "for persons in columns[3]:\n",
    "    indices1 = data[:,5]==\"high\"\n",
    "    indices2 = data[:,3]==persons\n",
    "    indices = np.alltrue([indices1,indices2], axis=0)\n",
    "    plt.hist(data[indices, 6])\n",
    "    plt.title(\"high safety and {} persons\".format(persons))\n",
    "    plt.show()"
   ]
  },
  {
   "cell_type": "code",
   "execution_count": 51,
   "metadata": {
    "collapsed": false
   },
   "outputs": [
    {
     "data": {
      "text/plain": [
       "1.0"
      ]
     },
     "execution_count": 51,
     "metadata": {},
     "output_type": "execute_result"
    }
   ],
   "source": [
    "tree = build_node(data, entropy(data[:,6]), \"all data\", 0)\n",
    "build_tree(tree)\n",
    "correct(tree)/1728"
   ]
  },
  {
   "cell_type": "code",
   "execution_count": 52,
   "metadata": {
    "collapsed": false
   },
   "outputs": [
    {
     "data": {
      "text/plain": [
       "1.0"
      ]
     },
     "execution_count": 52,
     "metadata": {},
     "output_type": "execute_result"
    }
   ],
   "source": [
    "tree = build_node(data, entropy(data[:,6]), \"all data\", 0)\n",
    "build_tree(tree, c45=True)\n",
    "correct(tree)/1728"
   ]
  },
  {
   "cell_type": "code",
   "execution_count": 56,
   "metadata": {
    "collapsed": false
   },
   "outputs": [
    {
     "name": "stdout",
     "output_type": "stream",
     "text": [
      "0.7002314814814815 0.7002314814814815\n",
      "0.7002314814814815 0.7002314814814815\n",
      "0.7777777777777778 0.7777777777777778\n",
      "0.8194444444444444 0.8240740740740741\n",
      "0.8993055555555556 0.8940972222222222\n",
      "0.9641203703703703 0.9641203703703703\n",
      "1.0 1.0\n"
     ]
    }
   ],
   "source": [
    "for depth in range(7):\n",
    "    root = build_node(data, entropy(data[:,6]), \"all data\", 0)\n",
    "    build_tree(root, max_depth=depth, c45=False)\n",
    "    id3=correct(root)/1728\n",
    "    root = build_node(data, entropy(data[:,6]), \"all data\", 0)\n",
    "    build_tree(root, max_depth=depth, c45=True)\n",
    "    c45=correct(root)/1728\n",
    "    print(id3,c45)"
   ]
  }
 ],
 "metadata": {
  "kernelspec": {
   "display_name": "Python 3",
   "language": "python",
   "name": "python3"
  },
  "language_info": {
   "codemirror_mode": {
    "name": "ipython",
    "version": 3
   },
   "file_extension": ".py",
   "mimetype": "text/x-python",
   "name": "python",
   "nbconvert_exporter": "python",
   "pygments_lexer": "ipython3",
   "version": "3.5.5"
  }
 },
 "nbformat": 4,
 "nbformat_minor": 0
}
