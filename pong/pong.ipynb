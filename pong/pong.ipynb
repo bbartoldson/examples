{
 "cells": [
  {
   "cell_type": "markdown",
   "metadata": {},
   "source": [
    "# Pong-Playing TensorFlow Neural Network\n",
    "\n",
    "## Import modules needed to train neural network in Pong environment"
   ]
  },
  {
   "cell_type": "code",
   "execution_count": 1,
   "metadata": {
    "collapsed": false
   },
   "outputs": [
    {
     "name": "stderr",
     "output_type": "stream",
     "text": [
      "[2017-11-07 14:04:06,121] Making new env: Pong-v0\n"
     ]
    },
    {
     "name": "stdout",
     "output_type": "stream",
     "text": [
      "Discrete(6)\n"
     ]
    },
    {
     "data": {
      "text/plain": [
       "['NOOP', 'FIRE', 'RIGHT', 'LEFT', 'RIGHTFIRE', 'LEFTFIRE']"
      ]
     },
     "execution_count": 1,
     "metadata": {},
     "output_type": "execute_result"
    }
   ],
   "source": [
    "import gym\n",
    "import numpy as np\n",
    "import tensorflow as tf\n",
    "from IPython import display\n",
    "import matplotlib.pyplot as plt\n",
    "import time\n",
    "\n",
    "config = tf.ConfigProto()\n",
    "#config.gpu_options.allow_growth = True\n",
    "\n",
    "%matplotlib inline"
   ]
  },
  {
   "cell_type": "markdown",
   "metadata": {},
   "source": [
    "## Investigate the environment and set up data preprocessing functions"
   ]
  },
  {
   "cell_type": "code",
   "execution_count": 2,
   "metadata": {
    "collapsed": false
   },
   "outputs": [
    {
     "data": {
      "image/png": "[encoded data removed]",
      "text/plain": [
       "<matplotlib.figure.Figure at 0x7ff98af755c0>"
      ]
     },
     "metadata": {},
     "output_type": "display_data"
    }
   ],
   "source": [
    "env = gym.make(\"Pong-v0\")\n",
    "env.render(mode='rgb_array').shape\n",
    "env.reset()\n",
    "print(env.action_space)\n",
    "print(env.unwrapped.get_action_meanings())\n",
    "\n",
    "top = 32\n",
    "bottom = 195\n",
    "left = 14\n",
    "right = 146\n",
    "downsampled_height = int(np.rint((bottom-top)/2))\n",
    "downsampled_width = int(np.rint((right-left)/2))\n",
    "input_dim = downsampled_height*downsampled_width\n",
    "\n",
    "def preprocess(img, reshape=False):\n",
    "    img = img[top:bottom,left:right,0][::2,::2] #crop, grab only one channel, and downsample by factor of 2\n",
    "    img[np.isin(img,[144,109])] = 0 #get rid of background color, 109 in first frame, 144 otherwise\n",
    "    img[img!=0] = 1\n",
    "    if not reshape:\n",
    "        return img.astype(np.int).ravel()\n",
    "    else:\n",
    "        return img.astype(np.int)\n",
    "\n",
    "def reshape(img):\n",
    "    return img.reshape(downsampled_height,downsampled_width).astype(np.int)\n",
    "\n",
    "#what color pixels are in this image?\n",
    "#print(list(zip(*np.unique(env.render(mode='rgb_array')[top:bottom,left:right,0],return_counts=1))))\n",
    "#print(list(zip(*np.unique(env.render(mode='rgb_array')[top:bottom,left:right,0][::2,::2],return_counts=1))))\n",
    "\n",
    "plt.subplots(2,3, figsize=(12,10))\n",
    "\n",
    "plt.subplot(2,3,1)\n",
    "plt.title(\"The Atari Pong Game Screen\")\n",
    "plt.imshow(env.reset())\n",
    "\n",
    "plt.subplot(2,3,2)\n",
    "plt.title(\"Cropped, First Channel Only\")\n",
    "plt.imshow(env.render(mode='rgb_array')[top:bottom,left:right,0])\n",
    "\n",
    "plt.subplot(2,3,3)\n",
    "plt.title(\"Prior Plus Downsample\")\n",
    "plt.imshow(env.render(mode='rgb_array')[top:bottom,left:right,0][::2,::2])\n",
    "\n",
    "plt.subplot(2,3,4)\n",
    "plt.title(\"After a step, color scheme changes\")\n",
    "plt.imshow(env.step(2)[0][top:bottom,left:right,0][::2,::2])\n",
    "\n",
    "plt.subplot(2,3,5)\n",
    "plt.title(\"After Preprocessing Frame 1\")\n",
    "plt.imshow(reshape(preprocess(env.reset())))\n",
    "\n",
    "plt.subplot(2,3,6)\n",
    "plt.title(\"After Preprocessing Frame 2\")\n",
    "plt.imshow(reshape(preprocess(env.step(2)[0])))\n",
    "plt.show()\n",
    "\n",
    "#print(list(zip(*np.unique(env.render(mode='rgb_array')[top:bottom,left:right,0][::2,::2],return_counts=1))))\n",
    "#print(list(zip(*np.unique(reshape(preprocess(env.reset())),return_counts=1))))\n",
    "#print(list(zip(*np.unique(reshape(preprocess(env.render(mode='rgb_array'))),return_counts=1))))"
   ]
  },
  {
   "cell_type": "markdown",
   "metadata": {},
   "source": [
    "## Define and initialize the neural network"
   ]
  },
  {
   "cell_type": "code",
   "execution_count": 3,
   "metadata": {
    "collapsed": false
   },
   "outputs": [],
   "source": [
    "sess = tf.InteractiveSession(config=config)\n",
    "\n",
    "x = tf.placeholder(tf.float32, shape=[None, input_dim])\n",
    "advantage = tf.placeholder(tf.float32, shape=[None, 1])\n",
    "action = tf.placeholder(tf.int8, shape=[None, 1])\n",
    "move_down_action = tf.Variable(3, dtype=tf.int8)\n",
    "\n",
    "h1_dim = 200\n",
    "l1 = tf.layers.dense(x, h1_dim, activation=tf.nn.relu)\n",
    "move_down_probability = tf.layers.dense(l1, 1, activation=tf.nn.sigmoid)\n",
    "#log probability of action (3=down, 2=up)\n",
    "sampled_action_log_prob = tf.where(tf.equal(action, move_down_action),\n",
    "                                     tf.log(move_down_probability + 1e-8),\n",
    "                                     tf.log(1-move_down_probability + 1e-8))\n",
    "optimizer = tf.train.AdamOptimizer(learning_rate=1e-4)\n",
    "train = optimizer.minimize(tf.reduce_sum(-advantage*sampled_action_log_prob))\n",
    "\n",
    "tf.global_variables_initializer().run()"
   ]
  },
  {
   "cell_type": "markdown",
   "metadata": {},
   "source": [
    "## Set up an agent class that plays pong using actions chosen by the neural network in the active TensorFlow session"
   ]
  },
  {
   "cell_type": "code",
   "execution_count": 4,
   "metadata": {
    "collapsed": false
   },
   "outputs": [],
   "source": [
    "class pong_agent:\n",
    "    \n",
    "    def __init__(self):        \n",
    "        self.wins = 0\n",
    "        self.games = 0      \n",
    "        self.discount = 0.99\n",
    "        self.p_list = []\n",
    "        self.actions = []\n",
    "        self.frames = []\n",
    "        self.rewards = []\n",
    "\n",
    "    def make_batch(self, n_sets):\n",
    "        for _ in range(n_sets):\n",
    "            self.play_set()\n",
    "        self.normalize_rewards()\n",
    "        return self.rewards, self.frames, self.actions, self.p_list, self.wins, self.games\n",
    "\n",
    "    def play_set(self):\n",
    "        env.reset()\n",
    "        done = 0\n",
    "        while not done:\n",
    "            self.frames.append(preprocess(env.render(mode='rgb_array')))\n",
    "            done = self.play_point(self.frames[-1])\n",
    "\n",
    "    def play_point(self, last_frame):\n",
    "        while True:\n",
    "            action, reward, new_frame, done = play_frame(self.frames[-1] - last_frame)\n",
    "            self.actions.append(action)\n",
    "            if reward:\n",
    "                self.rewards += list(reward * np.array([ [self.discount**k]\n",
    "                                        for k in range(len(self.frames)-1,-1,-1)]))\n",
    "                self.wins += max(reward,0)\n",
    "                self.games += 1\n",
    "                break\n",
    "            last_frame = self.frames[-1]\n",
    "            self.frames.append(new_frame)\n",
    "        return done\n",
    "\n",
    "    def play_frame(self, frame_change):\n",
    "        self.p_list.append( sess.run(move_down_probability,\n",
    "                            feed_dict={x: np.array([frame_change])}).reshape(1))\n",
    "        action = np.random.binomial(1, self.p_list[-1]) + 2 #sample an action using p_down, 3=down, 2=up\n",
    "        observation, reward, done = env.step(action)[:3]\n",
    "        return action, reward, preprocess(observation), done\n",
    "\n",
    "    def normalize_rewards(self):\n",
    "        mean = np.mean(self.rewards)\n",
    "        std_dev = np.std(self.rewards)\n",
    "        self.rewards = (np.array(self.rewards)-mean)/std_dev"
   ]
  },
  {
   "cell_type": "markdown",
   "metadata": {},
   "source": [
    "## Train the agent for 2000 updates to reach >50% win rate\n",
    "\n",
    "This part takes a while. My setup processes ~100 batches/hour. To monitor progress (percent of games won), I output a plot every 10 batches. There's a visible shift in the win rate from ~2% to ~4% by batch 300."
   ]
  },
  {
   "cell_type": "code",
   "execution_count": null,
   "metadata": {
    "collapsed": false
   },
   "outputs": [
    {
     "name": "stdout",
     "output_type": "stream",
     "text": [
      "Finished 0 batches in 0.01 hours\n",
      "Finished 10 batches in 0.1 hours\n",
      "Finished 20 batches in 0.19 hours\n",
      "Finished 30 batches in 0.28 hours\n",
      "Finished 40 batches in 0.37 hours\n",
      "Finished 50 batches in 0.46 hours\n",
      "Finished 60 batches in 0.55 hours\n",
      "Finished 70 batches in 0.64 hours\n",
      "Finished 80 batches in 0.74 hours\n",
      "Finished 90 batches in 0.83 hours\n",
      "Finished 100 batches in 0.92 hours\n",
      "Finished 110 batches in 1.01 hours\n",
      "Finished 120 batches in 1.11 hours\n",
      "Finished 130 batches in 1.2 hours\n",
      "Finished 140 batches in 1.3 hours\n",
      "Finished 150 batches in 1.39 hours\n",
      "Finished 160 batches in 1.49 hours\n",
      "Finished 170 batches in 1.58 hours\n",
      "Finished 180 batches in 1.68 hours\n",
      "Finished 190 batches in 1.77 hours\n",
      "Finished 200 batches in 1.87 hours\n",
      "Finished 210 batches in 1.97 hours\n",
      "Finished 220 batches in 2.06 hours\n",
      "Finished 230 batches in 2.16 hours\n",
      "Finished 240 batches in 2.26 hours\n",
      "Finished 250 batches in 2.36 hours\n",
      "Finished 260 batches in 2.46 hours\n",
      "Finished 270 batches in 2.57 hours\n",
      "Finished 280 batches in 2.67 hours\n",
      "Finished 290 batches in 2.77 hours\n",
      "Finished 300 batches in 2.87 hours\n",
      "Finished 310 batches in 2.97 hours\n",
      "Finished 320 batches in 3.07 hours\n",
      "Finished 330 batches in 3.17 hours\n",
      "Finished 340 batches in 3.28 hours\n",
      "Finished 350 batches in 3.38 hours\n",
      "Finished 360 batches in 3.49 hours\n",
      "Finished 370 batches in 3.59 hours\n",
      "Finished 380 batches in 3.7 hours\n"
     ]
    }
   ],
   "source": [
    "start = time.time()\n",
    "ratios = []\n",
    "matches_per_batch = 10\n",
    "epochs = 2000\n",
    "agent = pong_agent()\n",
    "\n",
    "for i in range(epochs):\n",
    "    #play Pong with the network, save frames and associated rewards\n",
    "    reward, frames, actions, p_list, w, g = agent.make_batch(matches_per_batch)\n",
    "    train.run(feed_dict={x: frame_changes, advantage: reward, action: actions})\n",
    "    ratios.append(w/g*100)\n",
    "    if i%10==0:\n",
    "        print(\"{}: batch {} finished after {} hours\".format(time.strftime('%X %x '), \n",
    "                                                    i, round((time.time()-start)/3600,2)))\n",
    "        plt.title(\"Agent Quality over Time\")\n",
    "        plt.plot(range(1,i+2), ratios)\n",
    "        plt.xlabel(\"Number of Updates\")\n",
    "        plt.ylabel(\"Percent of Games Won\")\n",
    "        plt.savefig(\"./pong_agent_quality\")\n",
    "        if i%100==0:\n",
    "            pass\n",
    "            #save out the neural network here!!!!"
   ]
  },
  {
   "cell_type": "markdown",
   "metadata": {},
   "source": [
    "## View the last game played"
   ]
  },
  {
   "cell_type": "code",
   "execution_count": null,
   "metadata": {
    "collapsed": false
   },
   "outputs": [],
   "source": [
    "'''\n",
    "watch the agent's Pong play in the most recent game, the title of the plot is the\n",
    "probability with which the agent will move down. the right side of the plot is the \n",
    "difference frame that the agent/neural-network sees before computing the probability\n",
    "'''\n",
    "def concat(one, two):\n",
    "    border = np.ones((downsampled_height,3))*3\n",
    "    return np.concatenate([one,border,two], axis=1)\n",
    "\n",
    "duration = 500 # number of frames to watch\n",
    "game = frames\n",
    "img = plt.imshow(concat(reshape(game[0]) , reshape(frame_changes[1]))) # only call this once\n",
    "for i in range(min(len(game), duration)):\n",
    "    img.set_data(concat(reshape(game[i]) , reshape(frame_changes[i]))) # just update the data\n",
    "    plt.title(\"Move Down with Probability %.2f\" % p_list[i][0])\n",
    "    display.display(plt.gcf())\n",
    "    display.clear_output(wait=True)"
   ]
  }
 ],
 "metadata": {
  "anaconda-cloud": {},
  "kernelspec": {
   "display_name": "Python [default]",
   "language": "python",
   "name": "python3"
  },
  "language_info": {
   "codemirror_mode": {
    "name": "ipython",
    "version": 3
   },
   "file_extension": ".py",
   "mimetype": "text/x-python",
   "name": "python",
   "nbconvert_exporter": "python",
   "pygments_lexer": "ipython3",
   "version": "3.5.2"
  }
 },
 "nbformat": 4,
 "nbformat_minor": 1
}
