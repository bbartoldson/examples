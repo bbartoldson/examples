{
 "cells": [
  {
   "cell_type": "code",
   "execution_count": 13,
   "metadata": {
    "collapsed": false
   },
   "outputs": [],
   "source": [
    "import tensorflow as tf\n",
    "import numpy as np\n",
    "config = tf.ConfigProto()\n",
    "config.gpu_options.allow_growth = True\n",
    "import sys\n",
    "from tensorflow.examples.tutorials.mnist import input_data\n",
    "FLAGS = None"
   ]
  },
  {
   "cell_type": "code",
   "execution_count": 1,
   "metadata": {
    "collapsed": false
   },
   "outputs": [
    {
     "name": "stderr",
     "output_type": "stream",
     "text": [
      "[2017-08-30 11:06:21,180] Making new env: Pong-v0\n"
     ]
    }
   ],
   "source": [
    "import gym\n",
    "env = gym.make(\"Pong-v0\")"
   ]
  },
  {
   "cell_type": "code",
   "execution_count": 4,
   "metadata": {
    "collapsed": false
   },
   "outputs": [
    {
     "data": {
      "text/plain": [
       "<matplotlib.image.AxesImage at 0x7f905d387390>"
      ]
     },
     "execution_count": 4,
     "metadata": {},
     "output_type": "execute_result"
    },
    {
     "data": {
      "image/png": "[encoded data removed]",
      "text/plain": [
       "<matplotlib.figure.Figure at 0x7f90630c36d8>"
      ]
     },
     "metadata": {},
     "output_type": "display_data"
    }
   ],
   "source": [
    "import matplotlib.pyplot as plt\n",
    "%matplotlib inline\n",
    "\n",
    "render = lambda : plt.imshow(env.render(mode='rgb_array'))\n",
    "env.reset()\n",
    "render()\n"
   ]
  },
  {
   "cell_type": "code",
   "execution_count": 69,
   "metadata": {
    "collapsed": false
   },
   "outputs": [
    {
     "data": {
      "text/plain": [
       "<matplotlib.image.AxesImage at 0x7f905ba6f748>"
      ]
     },
     "execution_count": 69,
     "metadata": {},
     "output_type": "execute_result"
    },
    {
     "data": {
      "image/png": "[encoded data removed]",
      "text/plain": [
       "<matplotlib.figure.Figure at 0x7f905ba993c8>"
      ]
     },
     "metadata": {},
     "output_type": "display_data"
    }
   ],
   "source": [
    "env.step(4)\n",
    "render()"
   ]
  },
  {
   "cell_type": "code",
   "execution_count": 66,
   "metadata": {
    "collapsed": false
   },
   "outputs": [
    {
     "name": "stdout",
     "output_type": "stream",
     "text": [
      "0 [-0.88891172] [ 0.] 0.0 [-0.37069574]\n",
      "1 [-0.88891172] [ 0.] 0.0 [-0.37069574]\n",
      "2 [-0.88891172] [ 0.] 0.0 [-0.37069574]\n",
      "3 [-0.88891172] [ 0.] 0.0 [-0.37069574]\n",
      "4 [-0.88891172] [ 0.] 0.0 [-0.37069574]\n",
      "5 [-0.88891172] [ 0.] 0.0 [-0.37069574]\n",
      "6 [-0.88891172] [ 0.] 0.0 [-0.37069574]\n",
      "7 [-0.88891172] [ 0.] 0.0 [-0.37069574]\n",
      "8 [-0.88891172] [ 0.] 0.0 [-0.37069574]\n",
      "9 [-0.88891172] [ 0.] 0.0 [-0.37069574]\n"
     ]
    }
   ],
   "source": [
    "# Create 100 phony x, y data points in NumPy, y = x * 0.1 + 0.3\n",
    "np.random.seed(1)\n",
    "\n",
    "x_data = np.random.rand(1).astype(\"float32\")\n",
    "y_data = (x_data < 0.5).astype(\"float32\")\n",
    "\n",
    "# Try to find values for W and b that compute y_data = W * x_data + b\n",
    "# (We know that W should be 0.1 and b 0.3, but Tensorflow will\n",
    "# figure that out for us.)\n",
    "W = tf.Variable(tf.random_uniform([1], -1.0, 1.0, seed=1))\n",
    "b = tf.Variable(tf.zeros([1]))\n",
    "logits = W * x_data + b\n",
    "\n",
    "\n",
    "solo_cross_entropy = tf.nn.softmax_cross_entropy_with_logits(\n",
    "                        labels=y_data, logits=logits)\n",
    "cross_entropy = tf.reduce_mean(solo_cross_entropy)\n",
    "optimizer = tf.train.GradientDescentOptimizer(0.5)\n",
    "train = optimizer.minimize(cross_entropy)\n",
    "\n",
    "sess = tf.InteractiveSession(config=config)\n",
    "tf.global_variables_initializer().run()\n",
    "\n",
    "# Fit the line.\n",
    "for step in range(10):\n",
    "    print (step, sess.run(W), sess.run(b), sess.run(cross_entropy),\n",
    "                   sess.run(logits))\n",
    "    sess.run(train)\n"
   ]
  },
  {
   "cell_type": "code",
   "execution_count": 75,
   "metadata": {
    "collapsed": false
   },
   "outputs": [
    {
     "data": {
      "text/plain": [
       "array([ 1.], dtype=float32)"
      ]
     },
     "execution_count": 75,
     "metadata": {},
     "output_type": "execute_result"
    }
   ],
   "source": [
    "sess.run(tf.nn.softmax([-1.]))"
   ]
  }
 ],
 "metadata": {
  "anaconda-cloud": {},
  "kernelspec": {
   "display_name": "Python [conda root]",
   "language": "python",
   "name": "conda-root-py"
  },
  "language_info": {
   "codemirror_mode": {
    "name": "ipython",
    "version": 3
   },
   "file_extension": ".py",
   "mimetype": "text/x-python",
   "name": "python",
   "nbconvert_exporter": "python",
   "pygments_lexer": "ipython3",
   "version": "3.5.2"
  }
 },
 "nbformat": 4,
 "nbformat_minor": 1
}
