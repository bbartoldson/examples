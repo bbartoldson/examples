{
 "cells": [
  {
   "cell_type": "code",
   "execution_count": 1,
   "metadata": {
    "collapsed": false
   },
   "outputs": [
    {
     "name": "stderr",
     "output_type": "stream",
     "text": [
      "[2017-09-07 19:44:19,716] Making new env: Pong-v0\n"
     ]
    },
    {
     "data": {
      "image/png": "[encoded data removed]",
      "text/plain": [
       "<matplotlib.figure.Figure at 0x7ff978e40d68>"
      ]
     },
     "metadata": {},
     "output_type": "display_data"
    }
   ],
   "source": [
    "import gym\n",
    "import matplotlib.pyplot as plt\n",
    "from IPython import display\n",
    "import numpy as np\n",
    "import tensorflow as tf\n",
    "\n",
    "config = tf.ConfigProto()\n",
    "config.gpu_options.allow_growth = True\n",
    "\n",
    "%matplotlib inline\n",
    "env = gym.make(\"Pong-v0\")\n",
    "env.reset()\n",
    "render = lambda: plt.imshow(env.render(mode='rgb_array'))\n",
    "render()\n",
    "plt.show()"
   ]
  },
  {
   "cell_type": "code",
   "execution_count": 2,
   "metadata": {
    "collapsed": false
   },
   "outputs": [
    {
     "data": {
      "text/plain": [
       "<matplotlib.image.AxesImage at 0x7ff953c00f98>"
      ]
     },
     "execution_count": 2,
     "metadata": {},
     "output_type": "execute_result"
    },
    {
     "data": {
      "image/png": "[encoded data removed]",
      "text/plain": [
       "<matplotlib.figure.Figure at 0x7ff981ded7b8>"
      ]
     },
     "metadata": {},
     "output_type": "display_data"
    }
   ],
   "source": [
    "plt.imshow(env.render(mode='rgb_array')[31:196,14:146])"
   ]
  },
  {
   "cell_type": "code",
   "execution_count": 9,
   "metadata": {
    "collapsed": false
   },
   "outputs": [
    {
     "name": "stdout",
     "output_type": "stream",
     "text": [
      "(0.0, False, {'ale.lives': 0})\n"
     ]
    },
    {
     "data": {
      "image/png": "[encoded data removed]",
      "text/plain": [
       "<matplotlib.figure.Figure at 0x7ff9539b27b8>"
      ]
     },
     "metadata": {},
     "output_type": "display_data"
    }
   ],
   "source": [
    "import time\n",
    "\n",
    "if 0:\n",
    "    env.reset()\n",
    "img = plt.imshow(env.render(mode='rgb_array')[31:196,14:146]) # only call this once\n",
    "for _ in range(21):\n",
    "    img.set_data(env.render(mode='rgb_array')[31:196,14:146]) # just update the data\n",
    "    display.display(plt.gcf())\n",
    "    display.clear_output(wait=True)\n",
    "    action = env.action_space.sample()\n",
    "    time.sleep(0.5)\n",
    "    #the reward element (index 1) is -1 after losing a point, presumably +1 after winning\n",
    "    print(env.step(action)[1:])\n",
    "    time.sleep(0.5)"
   ]
  },
  {
   "cell_type": "code",
   "execution_count": 3,
   "metadata": {
    "collapsed": false
   },
   "outputs": [
    {
     "name": "stdout",
     "output_type": "stream",
     "text": [
      "Discrete(6)\n"
     ]
    },
    {
     "data": {
      "text/plain": [
       "['NOOP', 'FIRE', 'RIGHT', 'LEFT', 'RIGHTFIRE', 'LEFTFIRE']"
      ]
     },
     "execution_count": 3,
     "metadata": {},
     "output_type": "execute_result"
    }
   ],
   "source": [
    "env.reset()\n",
    "print(env.action_space)\n",
    "env.unwrapped.get_action_meanings()"
   ]
  },
  {
   "cell_type": "code",
   "execution_count": 4,
   "metadata": {
    "collapsed": false
   },
   "outputs": [
    {
     "name": "stdout",
     "output_type": "stream",
     "text": [
      "(0.0, False, {'ale.lives': 0})\n"
     ]
    },
    {
     "data": {
      "image/png": "[encoded data removed]",
      "text/plain": [
       "<matplotlib.figure.Figure at 0x7ff953b775c0>"
      ]
     },
     "metadata": {},
     "output_type": "display_data"
    }
   ],
   "source": [
    "#1 does nothing, 2 goes up, 3 goes down\n",
    "print(env.step(1)[1:])\n",
    "render()\n",
    "plt.show()"
   ]
  },
  {
   "cell_type": "code",
   "execution_count": null,
   "metadata": {
    "collapsed": true
   },
   "outputs": [],
   "source": [
    "input_dim = (196-31)*(146-14)*3\n",
    "\n",
    "x = tf.placeholder(tf.float32, shape=[None, input_dim])\n",
    "y = tf.placeholder(tf.float32, shape=[None, 1])\n",
    "\n",
    "def weight_variable(shape):\n",
    "    initial = tf.truncated_normal(shape, stddev=0.1)\n",
    "    return tf.Variable(initial)\n",
    "\n",
    "def bias_variable(shape):\n",
    "    initial = tf.constant(0.1, shape=shape)\n",
    "    return tf.Variable(initial)\n",
    "\n",
    "h1_dim = 10\n",
    "w1 = weight_variable([input_dim, h1_dim])\n",
    "b1 = bias_variable(h1_dim)\n",
    "r1 = tf.nn.relu(w1*x + b1)\n",
    "w2 = weight_variable([h1_dim, 1])\n",
    "b2 = bias_variable([1])\n",
    "logit = w2*r1 + b2\n",
    "\n",
    "loss = tf.nn.sigmoid_cross_entropy_with_logits(labels=y, logits=logits)\n",
    "optimizer = tf.train.AdamOptimizer(0.5)\n",
    "train = optimizer.minimize(loss)\n",
    "\n",
    "def play_pong(match=0, reset=1):\n",
    "    frames = []\n",
    "    if reset:\n",
    "        frames.append(env.reset().flatten())\n",
    "    #play one point\n",
    "    if not match:\n",
    "        while True:\n",
    "            p_down = tf.nn.sigmoid(logit).run(feed_dict={x: frames[-1]})\n",
    "            #choose an action based on this probability, 3=down, 2=up\n",
    "            action = np.random.binomial(1, p_down) + 2 \n",
    "            observation, reward, done, info = env.step(action)\n",
    "            frames.append(observation.flatten())\n",
    "            if reward:\n",
    "                break\n",
    "    #play a whole match\n",
    "    else:\n",
    "        pass\n",
    "    \n",
    "    return reward, frames\n",
    "\n",
    "epochs = 2\n",
    "\n",
    "with tf.Session(config=config) as sess:\n",
    "    sess.run(tf.global_variables_initializer())\n",
    "    for i in range(epochs):\n",
    "        #play Pong with the network, save frames and associated rewards\n",
    "        reward, frames = play_pong()\n",
    "        train.run(feed_dict={x: frames, y: batch[1]})"
   ]
  },
  {
   "cell_type": "code",
   "execution_count": 18,
   "metadata": {
    "collapsed": false
   },
   "outputs": [
    {
     "name": "stdout",
     "output_type": "stream",
     "text": [
      "0 [ 1.28379107] [-0.49999991]\n",
      "20 [ 9.57364464] [-4.72542286]\n",
      "40 [ 13.95759296] [-6.84228659]\n",
      "60 [ 16.55422211] [-8.05457211]\n",
      "80 [ 18.52279472] [-8.99449253]\n",
      "100 [ 20.2229538] [-9.79433537]\n",
      "120 [ 21.76064301] [-10.51799488]\n",
      "140 [ 23.17978477] [-11.18589306]\n",
      "160 [ 24.50509071] [-11.80889702]\n",
      "180 [ 25.75300598] [-12.39570045]\n",
      "200 [ 26.93569946] [-12.95180702]\n"
     ]
    }
   ],
   "source": [
    "#learn y = x * 0.1 + 0.3\n",
    "x_data = np.random.rand(100).astype(np.float32)\n",
    "y_data = (x_data>0.5).astype(np.float32)\n",
    "\n",
    "# Try to find values for W and b that compute y_data = W * x_data + b\n",
    "# (We know that W should be 0.1 and b 0.3, but TensorFlow will\n",
    "# figure that out for us.)\n",
    "W = tf.Variable(tf.random_uniform([1], -1.0, 1.0))\n",
    "b = tf.Variable(tf.zeros([1]))\n",
    "logits = W * x_data + b\n",
    "\n",
    "# Minimize the mean squared errors.\n",
    "#loss = tf.reduce_mean(tf.square(y - y_data))\n",
    "loss = tf.nn.sigmoid_cross_entropy_with_logits(labels=y_data, logits=logits)\n",
    "optimizer = tf.train.AdamOptimizer(0.5)\n",
    "train = optimizer.minimize(loss)\n",
    "\n",
    "# Before starting, initialize the variables.  We will 'run' this first.\n",
    "init = tf.global_variables_initializer()\n",
    "\n",
    "# Launch the graph.\n",
    "sess = tf.Session(config=config)\n",
    "sess.run(init)\n",
    "\n",
    "# Fit the line.\n",
    "for step in range(201):\n",
    "    sess.run(train)\n",
    "    if step % 20 == 0:\n",
    "        print(step, sess.run(W), sess.run(b))\n",
    "\n",
    "# Learns best fit is W: [0.1], b: [0.3]"
   ]
  },
  {
   "cell_type": "code",
   "execution_count": null,
   "metadata": {
    "collapsed": true
   },
   "outputs": [],
   "source": [
    "sess = tf.InteractiveSession()\n",
    "\n",
    "# Create 100 phony x, y data points in NumPy, y = x * 0.1 + 0.3\n",
    "np.random.seed(1)\n",
    "x_data = np.random.rand(1).astype(\"float32\")\n",
    "y_data = (x_data < 0.5).astype(\"float32\")\n",
    "\n",
    "x = tf.placeholder(tf.float32, shape=[None, 1])\n",
    "y_ = tf.placeholder(tf.float32, shape=[None, 1])\n",
    "\n",
    "\n",
    "# Try to find values for W and b that compute y_data = W * x_data + b\n",
    "# (We know that W should be 0.1 and b 0.3, but Tensorflow will\n",
    "# figure that out for us.)\n",
    "W = tf.Variable(tf.random_uniform([1], -1.0, 1.0, seed=1))\n",
    "b = tf.Variable(tf.zeros([1]))\n",
    "logits = W * x_data + b\n",
    "\n",
    "\n",
    "solo_cross_entropy = tf.nn.softmax_cross_entropy_with_logits(\n",
    "                        labels=y_data, logits=logits)\n",
    "cross_entropy = tf.reduce_mean(solo_cross_entropy)\n",
    "optimizer = tf.train.GradientDescentOptimizer(0.5)\n",
    "train = optimizer.minimize(cross_entropy)\n",
    "\n",
    "tf.global_variables_initializer().run()\n",
    "\n",
    "# Fit the line.\n",
    "for step in range(10):\n",
    "    print (step, sess.run(W), sess.run(b), sess.run(logits),\n",
    "           sess.run(solo_cross_entropy) )\n",
    "    sess.run(train)\n"
   ]
  },
  {
   "cell_type": "code",
   "execution_count": null,
   "metadata": {
    "collapsed": true
   },
   "outputs": [],
   "source": []
  },
  {
   "cell_type": "code",
   "execution_count": 250,
   "metadata": {
    "collapsed": false
   },
   "outputs": [
    {
     "data": {
      "text/plain": [
       "array([ 1.], dtype=float32)"
      ]
     },
     "execution_count": 250,
     "metadata": {},
     "output_type": "execute_result"
    }
   ],
   "source": [
    "y_data"
   ]
  },
  {
   "cell_type": "code",
   "execution_count": 75,
   "metadata": {
    "collapsed": false
   },
   "outputs": [
    {
     "data": {
      "text/plain": [
       "array([ 1.], dtype=float32)"
      ]
     },
     "execution_count": 75,
     "metadata": {},
     "output_type": "execute_result"
    }
   ],
   "source": [
    "sess.run(tf.nn.softmax([-1.]))"
   ]
  }
 ],
 "metadata": {
  "anaconda-cloud": {},
  "kernelspec": {
   "display_name": "Python [conda root]",
   "language": "python",
   "name": "conda-root-py"
  },
  "language_info": {
   "codemirror_mode": {
    "name": "ipython",
    "version": 3
   },
   "file_extension": ".py",
   "mimetype": "text/x-python",
   "name": "python",
   "nbconvert_exporter": "python",
   "pygments_lexer": "ipython3",
   "version": "3.5.2"
  }
 },
 "nbformat": 4,
 "nbformat_minor": 1
}
